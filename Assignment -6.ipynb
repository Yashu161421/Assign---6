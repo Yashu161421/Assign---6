{
 "cells": [
  {
   "cell_type": "markdown",
   "id": "418bf674",
   "metadata": {},
   "source": [
    "#ASSIGNMENT - 1\n",
    "\n"
   ]
  },
  {
   "cell_type": "code",
   "execution_count": 6,
   "id": "955ea901",
   "metadata": {},
   "outputs": [],
   "source": [
    "import json"
   ]
  },
  {
   "cell_type": "code",
   "execution_count": 7,
   "id": "c0cf4d86",
   "metadata": {},
   "outputs": [
    {
     "name": "stdout",
     "output_type": "stream",
     "text": [
      "Name: Reshma Neelofer\n",
      "DOB: 1990-01-19\n",
      "Height: 175\n",
      "City: Hyderabad\n",
      "State: Telangana\n",
      "\n",
      "Name: Keerthi\n",
      "DOB: 1993-10-18\n",
      "Height: 180\n",
      "City: Delhi\n",
      "State: Delhi\n",
      "\n",
      "Name: Prasanna\n",
      "DOB: 1995-03-24\n",
      "Height: 163\n",
      "City: Bangalore\n",
      "State: Karnataka\n",
      "\n",
      "Name: Jamini\n",
      "DOB: 1999-10-24\n",
      "Height: 168\n",
      "City: Vijayawada\n",
      "State: Andhra Pradesh\n",
      "\n",
      "Name: Yaswanthi\n",
      "DOB: 1994-07-21\n",
      "Height: 170\n",
      "City: Kolkata\n",
      "State: West Bengal\n",
      "\n"
     ]
    }
   ],
   "source": [
    "# Task 1: \n",
    "\n",
    "employee_data = [\n",
    "    {\n",
    "        \"Name\": \"Reshma Neelofer\",\n",
    "        \"DOB\": \"1990-01-19\",\n",
    "        \"Height\": 175,\n",
    "        \"City\": \"Hyderabad\",\n",
    "        \"State\": \"Telangana\"\n",
    "    },\n",
    "    {\n",
    "        \"Name\": \"Keerthi\",\n",
    "        \"DOB\": \"1993-10-18\",\n",
    "        \"Height\": 180,\n",
    "        \"City\": \"Delhi\",\n",
    "        \"State\": \"Delhi\"\n",
    "    },\n",
    "    {\n",
    "        \"Name\": \"Prasanna\",\n",
    "        \"DOB\": \"1995-03-24\",\n",
    "        \"Height\": 163,\n",
    "        \"City\": \"Bangalore\",\n",
    "        \"State\": \"Karnataka\"\n",
    "    },\n",
    "    {\n",
    "        \"Name\": \"Jamini\",\n",
    "        \"DOB\": \"1999-10-24\",\n",
    "        \"Height\": 168,\n",
    "        \"City\": \"Vijayawada\",\n",
    "        \"State\": \"Andhra Pradesh\"\n",
    "    },\n",
    "    {\n",
    "        \"Name\": \"Yaswanthi\",\n",
    "        \"DOB\": \"1994-07-21\",\n",
    "        \"Height\": 170,\n",
    "        \"City\": \"Kolkata\",\n",
    "        \"State\": \"West Bengal\"\n",
    "    }\n",
    "]\n",
    "\n",
    "# Write employee data to a JSON file\n",
    "with open(\"employee.json\", \"w\") as file:\n",
    "    json.dump(employee_data, file)\n",
    "\n",
    "\n",
    "# Printing the list of Employee objects from the JSON file\n",
    "with open(\"employee.json\", \"r\") as file:\n",
    "    employee_data = json.load(file)\n",
    "\n",
    "class Employee:\n",
    "    def __init__(self, name, dob, height, city, state):\n",
    "        self.name = name\n",
    "        self.dob = dob\n",
    "        self.height = height\n",
    "        self.city = city\n",
    "        self.state = state\n",
    "\n",
    "# Creating a list of Employee objects\n",
    "employees = []\n",
    "for emp_info in employee_data:\n",
    "    employee = Employee(emp_info[\"Name\"], emp_info[\"DOB\"], emp_info[\"Height\"], emp_info[\"City\"], emp_info[\"State\"])\n",
    "    employees.append(employee)\n",
    "\n",
    "\n",
    "for employee in employees:\n",
    "    \n",
    "    print(f\"Name: {employee.name}\")\n",
    "    print(f\"DOB: {employee.dob}\")\n",
    "    print(f\"Height: {employee.height}\")\n",
    "    print(f\"City: {employee.city}\")\n",
    "    print(f\"State: {employee.state}\")\n",
    "    print()"
   ]
  },
  {
   "cell_type": "code",
   "execution_count": 8,
   "id": "038d66cf",
   "metadata": {},
   "outputs": [],
   "source": [
    "# Task -2\n",
    "\n",
    "indian_states = {\n",
    "    \"Andhra Pradesh\": \"Amaravati\",\n",
    "    \"Telangana\": \"Hyderabad\",\n",
    "    \"Tamil Nadu\": \"Chennai\",\n",
    "    \"Karnataka\": \"Bengaluru\",\n",
    "    \"Maharastra\": \"Mumbai\",\n",
    "    \"Kerala\": \"Thiruvananthapuram\",\n",
    "    \"Rajasthan\": \"Jaipur\"\n",
    "}\n",
    "\n",
    "\n",
    "# Write the Indian states dictionary to a JSON file\n",
    "with open('indian_states.json', 'w') as file:\n",
    "    json.dump(indian_states, file)\n"
   ]
  },
  {
   "cell_type": "markdown",
   "id": "bea429f9",
   "metadata": {},
   "source": [
    "#ASSIGNMENT - 2"
   ]
  },
  {
   "cell_type": "code",
   "execution_count": 8,
   "id": "c8bfabf1",
   "metadata": {},
   "outputs": [],
   "source": [
    "class Dog:\n",
    "    def __init__(self, name, age, coat_color):\n",
    "        self.name = name\n",
    "        self.age = age\n",
    "        self.coat_color = coat_color\n",
    "\n",
    "    def description(self):\n",
    "        print(f\"{self.name} is {self.age} years old.\")\n",
    "\n",
    "    def get_info(self):\n",
    "        print(f\"{self.name}'s coat color is {self.coat_color}.\")\n",
    "        \n",
    "\n",
    "class JackRussellTerrier(Dog):\n",
    "    def __init__(self, name, age, coat_color, favorite_activity):\n",
    "        super().__init__(name, age, coat_color)\n",
    "        self.favorite_activity = favorite_activity\n",
    "\n",
    "    def play(self):\n",
    "        print(f\"{self.name} loves to play {self.favorite_activity}.\")\n",
    "        \n",
    "    def bark(self):\n",
    "        print(f\"{self.name} barks loudly!\")\n",
    "\n",
    "\n",
    "class Bulldog(Dog):\n",
    "    def __init__(self, name, age, coat_color, weight):\n",
    "        super().__init__(name, age, coat_color)\n",
    "        self.weight = weight\n",
    "        \n",
    "    def eat(self):\n",
    "        print(f\"{self.name} enjoys eating and weighs {self.weight} pounds.\")\n",
    "        \n",
    "    def snore(self):\n",
    "        print(f\"{self.name} snores loudly while sleeping.\")\n",
    "\n",
    "\n",
    "# Create objects and demonstrate the functionalities\n",
    "dog1 = JackRussellTerrier(\"Buddy\", 3, \"White and Brown\", \"tennis ball\")\n",
    "dog2 = Bulldog(\"Max\", 5, \"Fawn\", 60)\n",
    "\n"
   ]
  },
  {
   "cell_type": "code",
   "execution_count": 9,
   "id": "c38e0deb",
   "metadata": {},
   "outputs": [
    {
     "name": "stdout",
     "output_type": "stream",
     "text": [
      "Buddy is 3 years old.\n",
      "Buddy's coat color is White and Brown.\n"
     ]
    }
   ],
   "source": [
    "dog1.description()\n",
    "dog1.get_info()\n"
   ]
  },
  {
   "cell_type": "code",
   "execution_count": 10,
   "id": "6ac1f427",
   "metadata": {},
   "outputs": [
    {
     "name": "stdout",
     "output_type": "stream",
     "text": [
      "Max is 5 years old.\n",
      "Max's coat color is Fawn.\n"
     ]
    }
   ],
   "source": [
    "dog2.description()\n",
    "dog2.get_info()\n"
   ]
  },
  {
   "cell_type": "code",
   "execution_count": 11,
   "id": "b3b902c1",
   "metadata": {},
   "outputs": [
    {
     "name": "stdout",
     "output_type": "stream",
     "text": [
      "Buddy loves to play tennis ball.\n",
      "Buddy barks loudly!\n"
     ]
    }
   ],
   "source": [
    "dog1.play()\n",
    "dog1.bark()\n"
   ]
  },
  {
   "cell_type": "code",
   "execution_count": 12,
   "id": "0e94a5ab",
   "metadata": {},
   "outputs": [
    {
     "name": "stdout",
     "output_type": "stream",
     "text": [
      "Max enjoys eating and weighs 60 pounds.\n",
      "Max snores loudly while sleeping.\n"
     ]
    }
   ],
   "source": [
    "dog2.eat()\n",
    "dog2.snore()\n"
   ]
  },
  {
   "cell_type": "code",
   "execution_count": null,
   "id": "dc386583",
   "metadata": {},
   "outputs": [],
   "source": []
  }
 ],
 "metadata": {
  "kernelspec": {
   "display_name": "Python 3 (ipykernel)",
   "language": "python",
   "name": "python3"
  },
  "language_info": {
   "codemirror_mode": {
    "name": "ipython",
    "version": 3
   },
   "file_extension": ".py",
   "mimetype": "text/x-python",
   "name": "python",
   "nbconvert_exporter": "python",
   "pygments_lexer": "ipython3",
   "version": "3.11.3"
  }
 },
 "nbformat": 4,
 "nbformat_minor": 5
}
